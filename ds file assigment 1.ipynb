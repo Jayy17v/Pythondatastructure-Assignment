{
  "nbformat": 4,
  "nbformat_minor": 0,
  "metadata": {
    "colab": {
      "provenance": []
    },
    "kernelspec": {
      "name": "python3",
      "display_name": "Python 3"
    },
    "language_info": {
      "name": "python"
    }
  },
  "cells": [
    {
      "cell_type": "markdown",
      "source": [
        "# Python Data Structure Assigment"
      ],
      "metadata": {
        "id": "JLzQDlUP3lmD"
      }
    },
    {
      "cell_type": "markdown",
      "source": [
        "1.  What are data structures, and why are they important?\n",
        "  - Data structures are essentially the ways in which data is organized and stored within a computer, allowing for efficient access and manipulation. Their importance in data science cannot be overstated, as this field frequently deals with massive and complex datasets. The selection of an appropriate data structure directly impacts the performance of data processing, analysis, and machine learning algorithms. For instance, using optimized structures like hash tables or trees can significantly speed up data retrieval and search operations, which are crucial in handling large volumes of information.\n",
        "2.  Explain the difference between mutable and immutable data types with examples?\n",
        "  -  The distinction between mutable and immutable data types is crucial for understanding how data is handled and manipulated. Mutable data types, like lists and dictionaries in Python, allow for modifications after their creation. This means you can change their contents directly without creating a new object. For instance, you can add, remove, or modify elements within a list or key-value pairs within a dictionary in place. This flexibility is beneficial for data preprocessing and transformation, where in-place modifications can improve efficiency. However, it also means that unexpected side effects can occur if multiple variables reference the same mutable object, as changes in one variable will affect all others. Conversely, immutable data types, such as tuples and strings, cannot be altered once created. Any operation that appears to modify an immutable object actually creates a new object with the desired changes. This immutability ensures data integrity and avoids unintended side effects. For example, when you concatenate strings, a new string is generated instead of modifying the original. In data science, immutable types are often preferred for storing data that should remain constant, like configuration settings or data points used in statistical analysis, preventing accidental alterations and ensuring reproducibility.\n",
        "3. What are the main differences between lists and tuples in Python?\n",
        "  - Lists and tuples are used to store collections of data, but they differ significantly in their mutability and intended use, which has implications for data science applications. Lists are mutable, meaning their elements can be modified after creation; you can add, remove, or change elements within a list.This flexibility makes lists ideal for data preprocessing tasks where data cleaning or transformation is required, such as filtering, sorting, or appending data. In contrast, tuples are immutable, meaning their elements cannot be changed once the tuple is created. This immutability provides data integrity and is beneficial for storing data that should remain constant, like coordinates, configuration settings, or data points used in statistical analysis where accidental modification could lead to errors. Additionally, tuples often consume less memory and can be slightly faster than lists, which can be advantageous when dealing with large datasets in data science. Finally, lists are typically used for collections of homogenous data.\n",
        "4. Describe how dictionaries store data?\n",
        "  - Dictionaries in Python are a powerful data structure widely used in data science for storing and retrieving data in a key-value format. This organization is particularly useful when dealing with datasets where data points are associated with unique identifiers or labels. Internally, dictionaries often utilize hash tables, allowing for efficient lookups and retrieval of values based on their corresponding keys. This efficiency is crucial when working with large datasets, as it enables quick access to specific data points without iterating through the entire dataset. In data science, dictionaries are frequently employed to represent data structures like JSON objects, which are commonly used for data exchange. They can also be used to store data summaries, such as frequency counts or aggregated statistics, where keys represent categories or labels, and values represent the corresponding counts or metrics. Moreover, dictionaries provide a flexible way to handle data with varying structures, allowing for the storage of heterogeneous data types within the same structure. Their ability to quickly associate and retrieve information makes them indispensable for tasks like data preprocessing, feature engineering, and storing model parameters.\n",
        "5. Why might you use a set instead of a list in Python?\n",
        "  -  Set in Python offers distinct advantages over a list when dealing with scenarios requiring uniqueness and efficient membership testing. Sets, unlike lists, inherently store only unique elements, automatically eliminating duplicates. This property is invaluable when cleaning datasets, particularly in tasks like identifying distinct categories or removing redundant entries, which can significantly improve the accuracy and efficiency of subsequent analyses. Furthermore, sets provide highly optimized membership testing, allowing for rapid checks of whether a specific element exists within the collection. This is considerably faster than iterating through a list, especially with large datasets, making sets ideal for tasks like filtering data based on presence or absence in a predefined group. Additionally, set operations like union, intersection, and difference are highly efficient, facilitating tasks such as comparing datasets, identifying common elements, or isolating unique data points, all of which are common operations in data preprocessing and exploratory data analysis. Therefore, while lists are versatile for ordered collections, sets are preferred when uniqueness and efficient membership checks are paramount.\n",
        "6.  What is a string in Python, and how is it different from a list?\n",
        "   -  String is an immutable sequence of characters, representing text data. This immutability means that once a string is created, its characters cannot be changed in place; any operation that appears to modify a string actually generates a new string object. This characteristic is crucial for data integrity, particularly when handling textual data that should remain constant, such as labels, identifiers, or configuration settings. While both strings and lists are sequence types, their primary purposes and mutability differ significantly in a data science context. Lists, being mutable, are designed for dynamic collections of elements, allowing for in-place modifications like adding, removing, or changing elements. This flexibility makes lists ideal for data preprocessing tasks where data cleaning and transformation are essential, such as filtering, sorting, or appending data. Strings, on the other hand, are better suited for representing and manipulating text data, which is common in natural language processing (NLP) and text analysis. In data science, strings are often used to store and process textual data from sources like social media, documents, or log files, while lists are used to hold collections of various data types during data manipulation\n",
        "7. How do tuples ensure data integrity in Python?\n",
        "   - Tuples in Python ensure data integrity in data science primarily due to their immutability. Once a tuple is created, its elements cannot be altered, added, or removed. This characteristic is particularly valuable when dealing with data that should remain constant throughout an analysis, such as experimental parameters, geographical coordinates, or statistical constants. By preventing accidental modifications, tuples safeguard the data from unintended changes that could compromise the accuracy and reliability of results. In data science workflows, where reproducibility is crucial, tuples provide a stable and predictable way to store critical data points, ensuring that the data used remains consistent across different stages of analysis or between different runs of a script. This immutability also minimizes the risk of side effects when passing tuples between functions or modules, as any function receiving a tuple is guaranteed that the data within will not be changed. This inherent protection against data alteration makes tuples a reliable choice for storing and managing data that requires a high degree of integrity and consistency.\n",
        "8.  What is a hash table, and how does it relate to dictionaries in Python?\n",
        "  - A hash table is a data structure that implements an associative array, a structure that can map keys to values.It uses a hash function to compute an index into an array of buckets 1  or slots, from which the desired value can be found. This allows for 2  very fast lookups, insertions, and deletions on average, with a time complexity of O(1). In Python, dictionaries are implemented using hash tables. This is why dictionaries provide such efficient key-based access to values, which is extremely valuable in data science. When dealing with large datasets, dictionaries allow for quick retrieval of specific data points using their associated keys, which is essential for tasks like data preprocessing, feature engineering, and storing model parameters. For example, in a dataset with millions of records, a dictionary can quickly retrieve a record based on its unique identifier, avoiding the need to iterate through the entire dataset. This efficient key-value mapping makes dictionaries, and therefore hash tables, indispensable tools for data scientists working with complex and large datasets.\n",
        "9.  Can lists contain different data types in Python?\n",
        "   - Yes ,lists in Python are highly versatile and can indeed contain different data types within the same list, which is a feature that can be both powerful and require careful handling in data science. This flexibility allows for the storage of heterogeneous data, such as a mix of integers, floats, strings, and even other lists or dictionaries, within a single structure. For instance, a list might contain a data point's ID (integer), its corresponding measurement (float), and a descriptive label (string). While this flexibility can be convenient for quickly organizing diverse data elements, it also necessitates careful type checking and data validation during analysis. Without proper handling, mixing data types can lead to unexpected errors or inconsistencies, especially when performing numerical computations or statistical analyses that expect uniform data types. In data science, while lists can handle diverse types, it's often more efficient and less error-prone to use specialized data structures like NumPy arrays or Pandas DataFrames when working with large, homogeneous datasets, as these structures provide optimized operations and type consistency.\n",
        "10. Explain why strings are immutable in Python?\n",
        "   - Strings in Python are designed to be immutable primarily for reasons of efficiency and data integrity, which are crucial considerations in data science. Immutability means that once a string is created, its contents cannot be altered directly. Instead, any operation that appears to modify a string, such as concatenation or slicing, results in the creation of a new string object. This design choice optimizes memory usage by allowing multiple variables to reference the same string literal without the risk of unintended modifications. In data science, where large volumes of textual data are often processed, this immutability ensures consistency and predictability. When dealing with datasets containing categorical variables or text-based features, ensuring that strings remain unchanged prevents accidental data corruption and maintains the reliability of analyses. Furthermore, immutability simplifies memory management, as Python can efficiently allocate and deallocate memory for strings without needing to account for potential in-place changes. This characteristic is particularly beneficial when working with large datasets, as it reduces the overhead associated with memory allocation and deallocation, contributing to more efficient data processing workflows.\n",
        "11.  What advantages do dictionaries offer over lists for certain tasks?\n",
        "   - Dictionaries in Python offer significant advantages over lists for specific data science tasks, primarily due to their key-value structure and efficient lookup capabilities. Unlike lists, which rely on numerical indices for accessing elements, dictionaries use unique keys, allowing for direct and rapid retrieval of values. This becomes particularly beneficial when dealing with datasets where data points are associated with unique identifiers or labels, such as patient records, sensor readings with timestamps, or word frequencies in text analysis. Dictionaries enable quick access to specific data points without the need to iterate through the entire dataset, which is crucial for handling large volumes of information. Furthermore, dictionaries facilitate the representation of structured data, like JSON objects, which are commonly used for data exchange in data science. They also excel at tasks involving data aggregation and summarization, such as counting occurrences or calculating statistics for different categories. By providing efficient key-based access and flexible data representation, dictionaries streamline data manipulation, analysis, and feature engineering, making them invaluable tools for various data science applications.\n",
        "12.  Describe a scenario where using a tuple would be preferable over a list?\n",
        "   - Scenario where using a tuple would be preferable over a list in data science arises when dealing with data that represents fixed, immutable records, such as geographical coordinates or configuration parameters for a machine learning model. Imagine a dataset containing the latitude and longitude of various locations. These coordinates, once established, should remain constant throughout the analysis. Storing these coordinates as tuples, like (latitude, longitude), ensures that they cannot be accidentally altered, preserving the integrity of the spatial data. This is crucial for tasks like geospatial analysis or mapping, where any unintended changes to the coordinates could lead to inaccurate results. Similarly, when defining hyperparameters for a machine learning model, such as learning rates or regularization parameters, using tuples ensures that these settings remain consistent across different training runs or experiments, promoting reproducibility. In these situations, the immutability of tuples provides a safeguard against accidental data modification, which is essential for maintaining the reliability and accuracy of data science workflows.\n",
        "13.  How do sets handle duplicate values in Python?\n",
        "   - Sets in Python are designed to inherently handle duplicate values by automatically eliminating them, ensuring that each element within a set is unique. This characteristic is particularly valuable in data science for tasks involving data cleaning and preprocessing. When dealing with datasets containing redundant entries, such as duplicate user IDs, sensor readings, or categorical labels, sets provide an efficient way to extract distinct values. By converting a list or other iterable containing duplicates into a set, data scientists can quickly obtain a collection of unique elements, streamlining subsequent analyses and reducing the risk of biased or inaccurate results. This automatic deduplication simplifies tasks like identifying unique categories, removing redundant data points, or comparing datasets for common or distinct elements. Furthermore, the efficient membership testing capabilities of sets, based on their underlying hash table implementation, allow for rapid checks of whether a value is already present, further enhancing their utility in data science workflows where uniqueness and efficient lookups are crucial.\n",
        "14.  How does the “in” keyword work differently for lists and dictionaries?\n",
        "   - The \"in\" keyword in Python functions differently when used with lists versus dictionaries, a distinction that is important in data science, especially when dealing with large datasets. For lists, the \"in\" keyword performs a linear search, iterating through each element until it finds a match or reaches the end. This means that as the size of the list grows, the time it takes to check for membership increases proportionally, making it inefficient for large datasets. In contrast, for dictionaries, the \"in\" keyword checks for the presence of a key using a hash table lookup, which provides near-constant time complexity, regardless of the dictionary's size. This difference is crucial in data science scenarios where rapid lookups are necessary. For example, when filtering data based on a large list of criteria, using a dictionary to store the criteria and checking for membership with \"in\" will be significantly faster than using a list. Similarly, when dealing with datasets that have unique identifiers, such as patient IDs or transaction numbers, dictionaries allow for efficient retrieval of corresponding data without the need to iterate through the entire dataset, making them an indispensable tool for data preprocessing and analysis.\n",
        "15. Can you modify the elements of a tuple? Explain why or why not?\n",
        "  - No, you cannot modify the elements of a tuple in Python. Tuples are immutable data structures, meaning that once they are created, their contents cannot be changed. This immutability is a deliberate design choice that provides several benefits, particularly in data science. In this field, data integrity and consistency are paramount. Immutable data structures ensure that data remains unchanged throughout an analysis, preventing accidental modifications that could compromise the accuracy and reliability of results. Imagine storing critical experimental parameters or fixed data points, like geographical coordinates, within a tuple. By preventing modifications, tuples safeguard these crucial values from unintended alterations, ensuring that the data used in analyses remains consistent and reproducible. This immutability also simplifies memory management and reduces the risk of side effects, making tuples a reliable choice for storing and passing data between functions or modules, especially when working with large and complex datasets. Therefore, while lists offer the flexibility of mutable data, tuples provide the assurance of data integrity, which is often a critical requirement in data science workflows.\n",
        "16.  What is a nested dictionary, and give an example of its use case?\n",
        "   - A nested dictionary in Python is a dictionary where values can themselves be dictionaries, creating a hierarchical structure for organizing complex data. This allows for the representation of data with multiple levels of relationships or attributes. A practical use case in data science arises when dealing with datasets containing hierarchical or grouped information, such as experimental results organized by subject and then by experimental condition. For example, imagine storing data from a clinical trial where each subject's results are recorded across multiple tests. A nested dictionary could be used where the outer keys represent subject IDs, and the inner dictionaries contain the results of each test, with test names as keys and the corresponding results as values. This structure enables efficient retrieval and manipulation of data at different levels of granularity. You could quickly access all test results for a specific subject or extract the results for a particular test across all subjects. This hierarchical organization simplifies data preprocessing, analysis, and visualization, particularly when dealing with datasets that have inherent nested structures, making nested dictionaries a powerful tool for representing and managing complex data in data science.\n",
        "17. Describe the time complexity of accessing elements in a dictionary?\n",
        "   -  The time complexity of accessing elements in a Python dictionary is a crucial factor contributing to its efficiency, particularly when dealing with large datasets. Dictionaries, implemented using hash tables, offer an average time complexity of O(1) for accessing elements. This means that, on average, the time taken to retrieve a value based on its key remains constant, regardless of the dictionary's size. This near-constant time complexity is achieved through the use of a hash function, which maps keys to specific locations in the underlying hash table, allowing for direct access to the corresponding values. This efficiency is particularly advantageous in data science tasks that require frequent lookups, such as retrieving data points based on unique identifiers, filtering data based on specific criteria, or aggregating data by categories. While worst-case scenarios can result in O(n) time complexity, where n is the number of key-value pairs, due to hash collisions, these occurrences are relatively rare in practice. Therefore, the O(1) average time complexity makes dictionaries a highly efficient data structure for various data science applications, contributing to faster data processing and analysis.\n",
        "18.  In what situations are lists preferred over dictionaries?\n",
        "  -  Lists are preferred over dictionaries when dealing with ordered sequences of data where the order of elements is significant and when data access primarily involves numerical indices rather than unique keys. For instance, when working with time series data, where the sequence of measurements is crucial for analysis, lists are ideal for maintaining the temporal order. Lists are also advantageous when storing and manipulating data that is primarily accessed iteratively, such as in numerical computations or when applying sequential processing to data elements. Furthermore, if the data consists of homogeneous elements and requires operations like sorting, filtering, or appending, lists provide efficient built-in methods. When data is being processed in a pipeline where the order of operations matters, or when data is being collected sequentially and needs to be maintained in that order, lists are superior. Dictionaries, while highly efficient for key-based lookups, introduce an inherent lack of ordering, which makes them less suitable for scenarios where the sequence of data points is critical for the analysis. Therefore, in situations emphasizing sequential access and ordered data manipulation, lists are the preferred data structure.\n",
        "19. Why are dictionaries considered unordered, and how does that affect data retrieval?\n",
        "  - Dictionaries in Python are considered unordered because, unlike lists or tuples, they do not maintain the sequence in which key-value pairs are inserted. This lack of inherent ordering stems from their underlying implementation using hash tables, which prioritize efficient key-based lookups over maintaining insertion order. While in newer Python versions (3.7+), dictionaries preserve insertion order, this is a side effect of the implementation and not a guaranteed language feature in older versions. This unordered nature impacts data retrieval in data science by making it unsuitable for scenarios where the sequence of data points is critical. For instance, if you need to process time-series data or maintain a specific order for data analysis, relying on the inherent ordering of a dictionary can lead to unpredictable results or errors. However, this unordered characteristic is advantageous for rapid data retrieval based on keys, which is crucial when dealing with large datasets where quick lookups are essential. In data science, dictionaries are often used for storing and retrieving data by unique identifiers or labels, where the order of elements is less important than the speed of access. Therefore, while dictionaries excel at key-based lookups, their unordered nature necessitates careful consideration when dealing with data that requires a specific sequence.\n",
        "20. Explain the difference between a list and a dictionary in terms of data retrieva?\n",
        "  -  The fundamental difference between lists and dictionaries regarding data retrieval lies in their access methods and efficiency. Lists rely on numerical indices to access elements, requiring iteration through the list until the desired element is found, resulting in O(n) time complexity in the worst case, where n is the list's length. This linear search makes lists inefficient for retrieving specific data points from large datasets based on arbitrary criteria. Conversely, dictionaries use unique keys to access values, leveraging hash table lookups that provide an average time complexity of O(1). This constant-time access allows for rapid retrieval of data based on keys, regardless of the dictionary's size. For instance, if you need to retrieve a patient's record using their unique ID, a dictionary allows you to access it directly without iterating through the entire dataset, which would be necessary with a list. This key-based access makes dictionaries highly efficient for retrieving data based on identifiers or labels, which is a common requirement in data science tasks involving large and complex datasets. Therefore, while lists are suitable for ordered sequences where element access is primarily sequential, dictionaries excel at rapid key-based lookups, making them indispensable for data retrieval in scenarios where efficiency is crucial.\n",
        "  \n",
        "  \n",
        "\n"
      ],
      "metadata": {
        "id": "nJtSHZ8x3zDI"
      }
    },
    {
      "cell_type": "markdown",
      "source": [
        "# Practical questions."
      ],
      "metadata": {
        "id": "8CrGV6Sl-3sL"
      }
    },
    {
      "cell_type": "code",
      "source": [
        "# 1.Write a code to create a string with your name and print it.\n",
        "my_name = \"jay\"\n",
        "print(my_name)"
      ],
      "metadata": {
        "colab": {
          "base_uri": "https://localhost:8080/"
        },
        "id": "aRqiiXfV_2EG",
        "outputId": "99187177-bd54-4fab-ce2b-9659820dd319"
      },
      "execution_count": 4,
      "outputs": [
        {
          "output_type": "stream",
          "name": "stdout",
          "text": [
            "jay\n"
          ]
        }
      ]
    },
    {
      "cell_type": "code",
      "source": [
        "#2.  Write a code to find the length of the string \"Hello World\".\n",
        "my_string = \"Hello World\"\n",
        "length_of_string = len(my_string)\n",
        "print(length_of_string)"
      ],
      "metadata": {
        "colab": {
          "base_uri": "https://localhost:8080/"
        },
        "id": "qvqCg-RGACvI",
        "outputId": "96842f24-f0a1-4b8b-8279-a0a90caab620"
      },
      "execution_count": 5,
      "outputs": [
        {
          "output_type": "stream",
          "name": "stdout",
          "text": [
            "11\n"
          ]
        }
      ]
    },
    {
      "cell_type": "code",
      "source": [
        "#3. Write a code to slice the first 3 characters from the string \"Python Programming\".\n",
        "my_string = \"Python Programming\"\n",
        "jay_string = my_string[:3]\n",
        "print(jay_string)"
      ],
      "metadata": {
        "colab": {
          "base_uri": "https://localhost:8080/"
        },
        "id": "9KDqw0QMAYQ6",
        "outputId": "9a623af3-ae23-4c8c-c366-4035ff208d05"
      },
      "execution_count": 6,
      "outputs": [
        {
          "output_type": "stream",
          "name": "stdout",
          "text": [
            "Pyt\n"
          ]
        }
      ]
    },
    {
      "cell_type": "code",
      "source": [
        "# 4. Write a code to convert the string \"hello\" to uppercase.\n",
        "my_string = \"hello\"\n",
        "uppercase_string = my_string.upper()\n",
        "print(uppercase_string)\n"
      ],
      "metadata": {
        "colab": {
          "base_uri": "https://localhost:8080/"
        },
        "id": "JKkJjz9xA4I4",
        "outputId": "d3d4db3c-8960-413a-86ad-7062e5764748"
      },
      "execution_count": 7,
      "outputs": [
        {
          "output_type": "stream",
          "name": "stdout",
          "text": [
            "HELLO\n"
          ]
        }
      ]
    },
    {
      "cell_type": "code",
      "source": [
        "# 5. Write a code to replace the word \"apple\" with \"orange\" in the string \"I like apple\"\n",
        "my_string = \"I like apple\"\n",
        "new_string = my_string.replace(\"apple\", \"orange\")\n",
        "print(new_string)"
      ],
      "metadata": {
        "colab": {
          "base_uri": "https://localhost:8080/"
        },
        "id": "NmHQIfG2Bdw3",
        "outputId": "c1b57a39-5b75-468a-919c-2e18b12ad3b7"
      },
      "execution_count": 8,
      "outputs": [
        {
          "output_type": "stream",
          "name": "stdout",
          "text": [
            "I like orange\n"
          ]
        }
      ]
    },
    {
      "cell_type": "code",
      "source": [
        " # 6.Write a code to create a list with numbers 1 to 5 and print it\n",
        "my_list = [1, 2, 3, 4, 5]\n",
        "print(my_list)"
      ],
      "metadata": {
        "colab": {
          "base_uri": "https://localhost:8080/"
        },
        "id": "ABPPeTuCBs9A",
        "outputId": "8fbd1a60-802a-4ba2-9fe8-f89f5a5b919b"
      },
      "execution_count": 9,
      "outputs": [
        {
          "output_type": "stream",
          "name": "stdout",
          "text": [
            "[1, 2, 3, 4, 5]\n"
          ]
        }
      ]
    },
    {
      "cell_type": "code",
      "source": [
        "# 7. Write a code to append the number 10 to the list [1, 2, 3, 4]\n",
        "my_list = [1, 2, 3, 4]\n",
        "my_list.append(10)\n",
        "print(my_list)"
      ],
      "metadata": {
        "colab": {
          "base_uri": "https://localhost:8080/"
        },
        "id": "LOgkJj2eB2xR",
        "outputId": "052ea400-41b1-4212-a3f0-eaddae9dee71"
      },
      "execution_count": 10,
      "outputs": [
        {
          "output_type": "stream",
          "name": "stdout",
          "text": [
            "[1, 2, 3, 4, 10]\n"
          ]
        }
      ]
    },
    {
      "cell_type": "code",
      "source": [
        "# 8. Write a code to remove the number 3 from the list [1, 2, 3, 4, 5]\n",
        "my_list = [1, 2, 3, 4, 5]\n",
        "my_list.remove(3)\n",
        "print(my_list)"
      ],
      "metadata": {
        "colab": {
          "base_uri": "https://localhost:8080/"
        },
        "id": "kaR48Z0WCFBl",
        "outputId": "fab9c480-cf2b-4380-cf68-aafdd7a477ed"
      },
      "execution_count": 11,
      "outputs": [
        {
          "output_type": "stream",
          "name": "stdout",
          "text": [
            "[1, 2, 4, 5]\n"
          ]
        }
      ]
    },
    {
      "cell_type": "code",
      "source": [
        "# 9. Write a code to access the second element in the list ['a', 'b', 'c', 'd']\n",
        "my_list = ['a', 'b', 'c', 'd']\n",
        "second_element = my_list[1]\n",
        "print(second_element)"
      ],
      "metadata": {
        "colab": {
          "base_uri": "https://localhost:8080/"
        },
        "id": "zWafx14QCNpH",
        "outputId": "e0496939-dc87-4fb3-a6dd-dbea04997277"
      },
      "execution_count": 12,
      "outputs": [
        {
          "output_type": "stream",
          "name": "stdout",
          "text": [
            "b\n"
          ]
        }
      ]
    },
    {
      "cell_type": "code",
      "source": [
        "# 10.  Write a code to reverse the list [10, 20, 30, 40, 50]\n",
        "my_list = [10, 20, 30, 40, 50]\n",
        "my_list.reverse()\n",
        "print(my_list)"
      ],
      "metadata": {
        "colab": {
          "base_uri": "https://localhost:8080/"
        },
        "id": "oPWvCSVXCY39",
        "outputId": "6930c855-f0a3-47e6-f0fe-c58c1827e648"
      },
      "execution_count": 13,
      "outputs": [
        {
          "output_type": "stream",
          "name": "stdout",
          "text": [
            "[50, 40, 30, 20, 10]\n"
          ]
        }
      ]
    },
    {
      "cell_type": "code",
      "source": [
        "# 11. . Write a code to create a tuple with the elements 100, 200, 300 and print it.\n",
        "my_tuple = (100, 200, 300)\n",
        "print(my_tuple)"
      ],
      "metadata": {
        "colab": {
          "base_uri": "https://localhost:8080/"
        },
        "id": "On31EMfXCkom",
        "outputId": "8e5ab756-f3cc-4b7a-f597-4fba65cdc5e4"
      },
      "execution_count": 14,
      "outputs": [
        {
          "output_type": "stream",
          "name": "stdout",
          "text": [
            "(100, 200, 300)\n"
          ]
        }
      ]
    },
    {
      "cell_type": "code",
      "source": [
        "# 12. Write a code to access the second-to-last element of the tuple ('red', 'green', 'blue', 'yellow').\n",
        "my_tuple = ('red', 'green', 'blue', 'yellow')\n",
        "second_to_last = my_tuple[-2]\n",
        "print(second_to_last)"
      ],
      "metadata": {
        "colab": {
          "base_uri": "https://localhost:8080/"
        },
        "id": "37qz6z66Cswv",
        "outputId": "7e412cbf-e656-44db-9b03-89cc016db6f5"
      },
      "execution_count": 15,
      "outputs": [
        {
          "output_type": "stream",
          "name": "stdout",
          "text": [
            "blue\n"
          ]
        }
      ]
    },
    {
      "cell_type": "code",
      "source": [
        "#13. . Write a code to find the minimum number in the tuple (10, 20, 5, 15).\n",
        "my_tuple = (10, 20, 5, 15)\n",
        "min_number = min(my_tuple)\n",
        "print(min_number)"
      ],
      "metadata": {
        "colab": {
          "base_uri": "https://localhost:8080/"
        },
        "id": "iNPaZHpPC2Yj",
        "outputId": "943a2729-42ad-4fdd-cbf8-cfaa8a6c0205"
      },
      "execution_count": 16,
      "outputs": [
        {
          "output_type": "stream",
          "name": "stdout",
          "text": [
            "5\n"
          ]
        }
      ]
    },
    {
      "cell_type": "code",
      "source": [
        "#14.  Write a code to find the index of the element \"cat\" in the tuple ('dog', 'cat', 'rabbit').\n",
        "my_tuple = ('dog', 'cat', 'rabbit')\n",
        "index_of_cat = my_tuple.index('cat')\n",
        "print(index_of_cat)"
      ],
      "metadata": {
        "colab": {
          "base_uri": "https://localhost:8080/"
        },
        "id": "mVrBpDh5C9d2",
        "outputId": "b70d1938-36d1-4600-b8aa-e3d25a593deb"
      },
      "execution_count": 17,
      "outputs": [
        {
          "output_type": "stream",
          "name": "stdout",
          "text": [
            "1\n"
          ]
        }
      ]
    },
    {
      "cell_type": "code",
      "source": [
        "#15. write a code to create a tuple containing three different fruits and check if \"kiwi\" is in it.\n",
        "fruits = (\"apple\", \"banana\", \"orange\")\n",
        "\n",
        "if \"kiwi\" in fruits:\n",
        "  print(\"Kiwi is in the tuple.\")\n",
        "else:\n",
        "  print(\"Kiwi is not in the tuple.\")"
      ],
      "metadata": {
        "colab": {
          "base_uri": "https://localhost:8080/"
        },
        "id": "tKl_l-6PDGVK",
        "outputId": "7a2e26a4-a504-4752-e695-67b423c909e0"
      },
      "execution_count": 18,
      "outputs": [
        {
          "output_type": "stream",
          "name": "stdout",
          "text": [
            "Kiwi is not in the tuple.\n"
          ]
        }
      ]
    },
    {
      "cell_type": "code",
      "source": [
        "#16.  Write a code to create a set with the elements 'a', 'b', 'c' and print it.\n",
        "my_set = {'a', 'b', 'c'}\n",
        "print(my_set)"
      ],
      "metadata": {
        "colab": {
          "base_uri": "https://localhost:8080/"
        },
        "id": "4KLC8kc9DR9n",
        "outputId": "c78f3125-a613-4cc8-acb7-933467c44731"
      },
      "execution_count": 19,
      "outputs": [
        {
          "output_type": "stream",
          "name": "stdout",
          "text": [
            "{'a', 'b', 'c'}\n"
          ]
        }
      ]
    },
    {
      "cell_type": "code",
      "source": [
        "#17. Write a code to clear all elements from the set {1, 2, 3, 4, 5}.\n",
        "my_set = {1, 2, 3, 4, 5}\n",
        "my_set.clear()\n",
        "print(my_set)"
      ],
      "metadata": {
        "colab": {
          "base_uri": "https://localhost:8080/"
        },
        "id": "DyOcztFEDaih",
        "outputId": "bff7e75e-30be-4e70-ca7b-b312d8d7909d"
      },
      "execution_count": 20,
      "outputs": [
        {
          "output_type": "stream",
          "name": "stdout",
          "text": [
            "set()\n"
          ]
        }
      ]
    },
    {
      "cell_type": "code",
      "source": [
        "#18. Write a code to remove the element 4 from the set {1, 2, 3, 4}.\n",
        "my_set = {1, 2, 3, 4}\n",
        "my_set.remove(4)\n",
        "print(my_set)"
      ],
      "metadata": {
        "colab": {
          "base_uri": "https://localhost:8080/"
        },
        "id": "z3CKB3M8DjyN",
        "outputId": "7705d71d-02b5-4f91-a11e-e98baefaa22f"
      },
      "execution_count": 21,
      "outputs": [
        {
          "output_type": "stream",
          "name": "stdout",
          "text": [
            "{1, 2, 3}\n"
          ]
        }
      ]
    },
    {
      "cell_type": "code",
      "source": [
        "#19. Write a code to find the union of two sets {1, 2, 3} and {3, 4, 5}\n",
        "set1 = {1, 2, 3}\n",
        "set2 = {3, 4, 5}\n",
        "\n",
        "union_set = set1.union(set2)\n",
        "\n",
        "print(union_set)"
      ],
      "metadata": {
        "colab": {
          "base_uri": "https://localhost:8080/"
        },
        "id": "Di2KSTihDtk7",
        "outputId": "5619de97-a880-41a8-9229-685fc4f6c701"
      },
      "execution_count": 22,
      "outputs": [
        {
          "output_type": "stream",
          "name": "stdout",
          "text": [
            "{1, 2, 3, 4, 5}\n"
          ]
        }
      ]
    },
    {
      "cell_type": "code",
      "source": [
        "#20.  Write a code to find the intersection of two sets {1, 2, 3} and {2, 3, 4}\n",
        "set1 = {1, 2, 3}\n",
        "set2 = {2, 3, 4}\n",
        "\n",
        "intersection_set = set1.intersection(set2)\n",
        "print(intersection_set)"
      ],
      "metadata": {
        "colab": {
          "base_uri": "https://localhost:8080/"
        },
        "id": "lPkLLni9D1w8",
        "outputId": "057d51c8-d4f2-4530-bfca-81ede64ed523"
      },
      "execution_count": 23,
      "outputs": [
        {
          "output_type": "stream",
          "name": "stdout",
          "text": [
            "{2, 3}\n"
          ]
        }
      ]
    },
    {
      "cell_type": "code",
      "source": [
        "#21.  Write a code to create a dictionary with the keys \"name\", \"age\", and \"city\", and print it.\n",
        "my_dict = {\n",
        "    \"name\": \"jay\",\n",
        "    \"age\": 20,\n",
        "    \"city\": \"udaipur\"\n",
        "}\n",
        "\n",
        "print(my_dict)"
      ],
      "metadata": {
        "colab": {
          "base_uri": "https://localhost:8080/"
        },
        "id": "j8goGI2xD9Gb",
        "outputId": "4ca52d89-729e-40b1-eca6-9da848a3f0f6"
      },
      "execution_count": 25,
      "outputs": [
        {
          "output_type": "stream",
          "name": "stdout",
          "text": [
            "{'name': 'jay', 'age': 20, 'city': 'udaipur'}\n"
          ]
        }
      ]
    },
    {
      "cell_type": "code",
      "source": [
        "#22. Write a code to add a new key-value pair \"country\": \"USA\" to the dictionary {'name': 'John', 'age': 25}\n",
        "my_dict = {'name': 'John', 'age': 25}\n",
        "my_dict[\"country\"] = \"USA\"\n",
        "print(my_dict)"
      ],
      "metadata": {
        "colab": {
          "base_uri": "https://localhost:8080/"
        },
        "id": "BcyIwGNrEEV5",
        "outputId": "04293102-a704-4800-fb71-3b4e398d1a4b"
      },
      "execution_count": 26,
      "outputs": [
        {
          "output_type": "stream",
          "name": "stdout",
          "text": [
            "{'name': 'John', 'age': 25, 'country': 'USA'}\n"
          ]
        }
      ]
    },
    {
      "cell_type": "code",
      "source": [
        "#23.  Write a code to access the value associated with the key \"name\" in the dictionary {'name': 'Alice', 'age': 30}.\n",
        "my_dict = {'name': 'Alice', 'age': 30}\n",
        "name_value = my_dict['name']\n",
        "print(name_value)"
      ],
      "metadata": {
        "colab": {
          "base_uri": "https://localhost:8080/"
        },
        "id": "-gByjmqoEW0U",
        "outputId": "f76c0264-7c44-463b-9b81-bef39313a80c"
      },
      "execution_count": 27,
      "outputs": [
        {
          "output_type": "stream",
          "name": "stdout",
          "text": [
            "Alice\n"
          ]
        }
      ]
    },
    {
      "cell_type": "code",
      "source": [
        "#24.  Write a code to remove the key \"age\" from the dictionary {'name': 'Bob', 'age': 22, 'city': 'New York'}\n",
        "my_dict = {'name': 'Bob', 'age': 22, 'city': 'New York'}\n",
        "del my_dict['age']\n",
        "print(my_dict)\n"
      ],
      "metadata": {
        "colab": {
          "base_uri": "https://localhost:8080/"
        },
        "id": "pWWqVo2EEfTZ",
        "outputId": "8f1e1634-16f1-49e8-a772-8acb8b38d5f7"
      },
      "execution_count": 28,
      "outputs": [
        {
          "output_type": "stream",
          "name": "stdout",
          "text": [
            "{'name': 'Bob', 'city': 'New York'}\n"
          ]
        }
      ]
    },
    {
      "cell_type": "code",
      "source": [
        "#25.  Write a code to check if the key \"city\" exists in the dictionary {'name': 'Alice', 'city': 'Paris'}\n",
        "my_dict = {'name': 'Alice', 'city': 'Paris'}\n",
        "\n",
        "if 'city' in my_dict:\n",
        "    print(\"The key 'city' exists in the dictionary.\")\n",
        "else:\n",
        "    print(\"The key 'city' does not exist in the dictionary.\")"
      ],
      "metadata": {
        "colab": {
          "base_uri": "https://localhost:8080/"
        },
        "id": "Xo2MDBVZEsYU",
        "outputId": "ff182907-63e4-4202-8255-486468c2d391"
      },
      "execution_count": 29,
      "outputs": [
        {
          "output_type": "stream",
          "name": "stdout",
          "text": [
            "The key 'city' exists in the dictionary.\n"
          ]
        }
      ]
    },
    {
      "cell_type": "code",
      "source": [
        "#26.  Write a code to create a list, a tuple, and a dictionary, and print them all.\n",
        "my_list = [1, 2, \"hello\", 3.14]\n",
        "my_tuple = (\"apple\", \"banana\", \"cherry\")\n",
        "my_dict = {\"name\": \"jay\", \"age\": 20, \"city\": \"udaipur\"}\n",
        "\n",
        "print(\"List:\", my_list)\n",
        "print(\"Tuple:\", my_tuple)\n",
        "print(\"Dictionary:\", my_dict)"
      ],
      "metadata": {
        "colab": {
          "base_uri": "https://localhost:8080/"
        },
        "id": "K7PtDjH0E3VJ",
        "outputId": "ef0adf56-6f1b-46fe-b46e-628b0e97abfe"
      },
      "execution_count": 30,
      "outputs": [
        {
          "output_type": "stream",
          "name": "stdout",
          "text": [
            "List: [1, 2, 'hello', 3.14]\n",
            "Tuple: ('apple', 'banana', 'cherry')\n",
            "Dictionary: {'name': 'jay', 'age': 20, 'city': 'udaipur'}\n"
          ]
        }
      ]
    },
    {
      "cell_type": "code",
      "source": [
        "#27.  Write a code to create a list of 5 random numbers between 1 and 100, sort it in ascending order, and print the result.(replaced)\n",
        "import random\n",
        "\n",
        "random_numbers = []\n",
        "for _ in range(5):\n",
        "    random_numbers.append(random.randint(1, 100))\n",
        "\n",
        "random_numbers.sort()  # Sorts the list in-place\n",
        "\n",
        "print(random_numbers)\n"
      ],
      "metadata": {
        "colab": {
          "base_uri": "https://localhost:8080/"
        },
        "id": "4SCR1HA9FEKq",
        "outputId": "0f483679-0b3e-49af-d14d-78cf4d5d03df"
      },
      "execution_count": 31,
      "outputs": [
        {
          "output_type": "stream",
          "name": "stdout",
          "text": [
            "[4, 30, 41, 44, 93]\n"
          ]
        }
      ]
    },
    {
      "cell_type": "code",
      "source": [
        "#28.  Write a code to create a list with strings and print the element at the third index.\n",
        "my_list = [\"apple\", \"banana\", \"cherry\", \"date\", \"elderberry\"]\n",
        "third_element = my_list[3]  # Index 3 corresponds to the fourth element\n",
        "\n",
        "print(third_element)"
      ],
      "metadata": {
        "colab": {
          "base_uri": "https://localhost:8080/"
        },
        "id": "R_j-y6LrFatK",
        "outputId": "93e72685-e7d9-4aac-b14a-eaf7e08a5371"
      },
      "execution_count": 32,
      "outputs": [
        {
          "output_type": "stream",
          "name": "stdout",
          "text": [
            "date\n"
          ]
        }
      ]
    },
    {
      "cell_type": "code",
      "source": [
        "#29 . Write a code to combine two dictionaries into one and print the result\n",
        "dict1 = {'a': 1, 'b': 2}\n",
        "dict2 = {'c': 3, 'd': 4}\n",
        "combined_dict = dict1.copy()\n",
        "combined_dict.update(dict2)\n",
        "print(combined_dict)"
      ],
      "metadata": {
        "colab": {
          "base_uri": "https://localhost:8080/"
        },
        "id": "1oX4l2ACFm5o",
        "outputId": "161910c0-790b-41d3-e97f-9da580323c00"
      },
      "execution_count": 33,
      "outputs": [
        {
          "output_type": "stream",
          "name": "stdout",
          "text": [
            "{'a': 1, 'b': 2, 'c': 3, 'd': 4}\n"
          ]
        }
      ]
    },
    {
      "cell_type": "code",
      "source": [
        "#30 . Write a code to convert a list of strings into a set\n",
        "my_list = [\"apple\", \"banana\", \"cherry\", \"apple\", \"date\"]\n",
        "my_set = set(my_list)\n",
        "print(my_set)"
      ],
      "metadata": {
        "colab": {
          "base_uri": "https://localhost:8080/"
        },
        "id": "E5BV-oyxF0HS",
        "outputId": "14d1fa14-b816-4d34-d719-48fae8eac521"
      },
      "execution_count": 34,
      "outputs": [
        {
          "output_type": "stream",
          "name": "stdout",
          "text": [
            "{'date', 'cherry', 'apple', 'banana'}\n"
          ]
        }
      ]
    },
    {
      "cell_type": "markdown",
      "source": [
        "# END"
      ],
      "metadata": {
        "id": "goztGH6nF-aj"
      }
    }
  ]
}